{
  "nbformat": 4,
  "nbformat_minor": 0,
  "metadata": {
    "colab": {
      "name": "Untitled3.ipynb",
      "provenance": [],
      "authorship_tag": "ABX9TyMLvjG/CM2Zty4K/dd8iKLt",
      "include_colab_link": true
    },
    "kernelspec": {
      "name": "python3",
      "display_name": "Python 3"
    },
    "language_info": {
      "name": "python"
    }
  },
  "cells": [
    {
      "cell_type": "markdown",
      "metadata": {
        "id": "view-in-github",
        "colab_type": "text"
      },
      "source": [
        "<a href=\"https://colab.research.google.com/github/MaxPineyroP23/SimMat_O2022/blob/main/Untitled3.ipynb\" target=\"_parent\"><img src=\"https://colab.research.google.com/assets/colab-badge.svg\" alt=\"Open In Colab\"/></a>"
      ]
    },
    {
      "cell_type": "code",
      "execution_count": null,
      "metadata": {
        "id": "DCyf-yM1KDJG"
      },
      "outputs": [],
      "source": [
        ""
      ]
    },
    {
      "cell_type": "markdown",
      "source": [
        "# La CFE lanza paquetes de internet y telefonía móvil desde 30 pesos\n",
        "La **Comisión Federal de Electricidad** (CFE), a través de su subsidiaria **CFE Telecomunicaciones, Internet para Todos** (TEIT) ofrecerá servicios de internet y telefonía móvil en los 32 estados del país, informó en su sitio web.\n",
        "\n",
        "La CFE ofrece una red de banda ancha móvil con **tecnología 4.5G con planes de datos móviles y telefonía sin plazos forzosos.**\n",
        "\n",
        "Por lo pronto, tendrá 12 paquetes de prepago que **van desde 30 pesos hasta 300 pesos mensuales.** El paquete más económico, de 30 pesos ofrece hasta 4GB de velocidad de internet, 250 minutos de llamadas y 125 mensajes SMS; su vigencia es de tres días.\n",
        "\n",
        "El servicio por 30 días, oferta **40 GB de velocidad de internet** con hotspot, 1,500 minutos y 1,000 SMS.\n",
        "\n",
        "También dará servicios semestrales que van de 400 pesos mensuales hasta 1,400 pesos y paquetes anuales desde 700 pesos mensuales con paquetes de datos móviles que van de los 5 GB hasta los 40 GB.\n",
        "\n",
        "> **Nuestra red cubre la necesidad de conectividad a nivel nacional, reduciendo la brecha digital entre las comunidades desconectadas y llevando comunicaciones de calidad a cada rincón del país”, publicó en su anuncio.**\n",
        "\n",
        "[Link](https://www.eleconomista.com.mx/empresas/La-CFE-lanza-paquetes-de-internet-y-telefonia-movil-desde-30-pesos-20220817-0045.html)\n",
        "\n",
        "\n",
        "# Presentación Personal \n",
        "* Me llamo **Maximiliano Pñeyro Peña**\n",
        "* Estudio **Ingeniería Financiera** en 4to Semestre\n",
        "* Soy de **Guadalajara Jalisco**\n",
        "* Mis hobbies son: **jugar fútbol, ir al gym, salir con mis amigos, ver series, etc**\n",
        "* Nací el 23 de ocubre del 2000, **tengo 21 años**"
      ],
      "metadata": {
        "id": "gQ5t8O8HKD2b"
      }
    }
  ]
}